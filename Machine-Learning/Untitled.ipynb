{
 "cells": [
  {
   "cell_type": "code",
   "execution_count": 1,
   "id": "d0fcc435",
   "metadata": {},
   "outputs": [],
   "source": [
    "# Raw Package\n",
    "import numpy as np\n",
    "import pandas as pd\n",
    "\n",
    "#Data Source\n",
    "import yfinance as yf"
   ]
  },
  {
   "cell_type": "code",
   "execution_count": 2,
   "id": "78189f6a",
   "metadata": {},
   "outputs": [
    {
     "data": {
      "text/html": [
       "<div>\n",
       "<style scoped>\n",
       "    .dataframe tbody tr th:only-of-type {\n",
       "        vertical-align: middle;\n",
       "    }\n",
       "\n",
       "    .dataframe tbody tr th {\n",
       "        vertical-align: top;\n",
       "    }\n",
       "\n",
       "    .dataframe thead th {\n",
       "        text-align: right;\n",
       "    }\n",
       "</style>\n",
       "<table border=\"1\" class=\"dataframe\">\n",
       "  <thead>\n",
       "    <tr style=\"text-align: right;\">\n",
       "      <th></th>\n",
       "      <th>Symbol</th>\n",
       "      <th>Name</th>\n",
       "      <th>Last Sale</th>\n",
       "      <th>Net Change</th>\n",
       "      <th>% Change</th>\n",
       "      <th>Market Cap</th>\n",
       "      <th>Country</th>\n",
       "      <th>IPO Year</th>\n",
       "      <th>Volume</th>\n",
       "      <th>Sector</th>\n",
       "      <th>Industry</th>\n",
       "    </tr>\n",
       "  </thead>\n",
       "  <tbody>\n",
       "    <tr>\n",
       "      <th>0</th>\n",
       "      <td>A</td>\n",
       "      <td>Agilent Technologies Inc. Common Stock</td>\n",
       "      <td>$121.84</td>\n",
       "      <td>1.280</td>\n",
       "      <td>1.062%</td>\n",
       "      <td>3.639459e+10</td>\n",
       "      <td>United States</td>\n",
       "      <td>1999.0</td>\n",
       "      <td>92940</td>\n",
       "      <td>Industrials</td>\n",
       "      <td>Electrical Products</td>\n",
       "    </tr>\n",
       "    <tr>\n",
       "      <th>1</th>\n",
       "      <td>AA</td>\n",
       "      <td>Alcoa Corporation Common Stock</td>\n",
       "      <td>$41.44</td>\n",
       "      <td>-0.650</td>\n",
       "      <td>-1.544%</td>\n",
       "      <td>7.643554e+09</td>\n",
       "      <td>NaN</td>\n",
       "      <td>2016.0</td>\n",
       "      <td>1026743</td>\n",
       "      <td>Industrials</td>\n",
       "      <td>Metal Fabrications</td>\n",
       "    </tr>\n",
       "    <tr>\n",
       "      <th>2</th>\n",
       "      <td>AAC</td>\n",
       "      <td>Ares Acquisition Corporation Class A Ordinary ...</td>\n",
       "      <td>$9.84</td>\n",
       "      <td>0.000</td>\n",
       "      <td>0.00%</td>\n",
       "      <td>1.230000e+09</td>\n",
       "      <td>NaN</td>\n",
       "      <td>2021.0</td>\n",
       "      <td>15221</td>\n",
       "      <td>Finance</td>\n",
       "      <td>Business Services</td>\n",
       "    </tr>\n",
       "    <tr>\n",
       "      <th>3</th>\n",
       "      <td>AACG</td>\n",
       "      <td>ATA Creativity Global American Depositary Shares</td>\n",
       "      <td>$1.07</td>\n",
       "      <td>0.010</td>\n",
       "      <td>0.943%</td>\n",
       "      <td>3.381049e+07</td>\n",
       "      <td>China</td>\n",
       "      <td>2008.0</td>\n",
       "      <td>2702</td>\n",
       "      <td>Consumer Discretionary</td>\n",
       "      <td>Service to the Health Industry</td>\n",
       "    </tr>\n",
       "    <tr>\n",
       "      <th>4</th>\n",
       "      <td>AACI</td>\n",
       "      <td>Armada Acquisition Corp. I Common Stock</td>\n",
       "      <td>$9.885</td>\n",
       "      <td>0.015</td>\n",
       "      <td>0.152%</td>\n",
       "      <td>2.047134e+08</td>\n",
       "      <td>United States</td>\n",
       "      <td>2021.0</td>\n",
       "      <td>181467</td>\n",
       "      <td>Industrials</td>\n",
       "      <td>Consumer Electronics/Appliances</td>\n",
       "    </tr>\n",
       "  </tbody>\n",
       "</table>\n",
       "</div>"
      ],
      "text/plain": [
       "  Symbol                                               Name Last Sale  \\\n",
       "0      A             Agilent Technologies Inc. Common Stock   $121.84   \n",
       "1     AA                    Alcoa Corporation Common Stock     $41.44   \n",
       "2    AAC  Ares Acquisition Corporation Class A Ordinary ...     $9.84   \n",
       "3   AACG   ATA Creativity Global American Depositary Shares     $1.07   \n",
       "4   AACI            Armada Acquisition Corp. I Common Stock    $9.885   \n",
       "\n",
       "   Net Change % Change    Market Cap        Country  IPO Year   Volume  \\\n",
       "0       1.280   1.062%  3.639459e+10  United States    1999.0    92940   \n",
       "1      -0.650  -1.544%  7.643554e+09            NaN    2016.0  1026743   \n",
       "2       0.000    0.00%  1.230000e+09            NaN    2021.0    15221   \n",
       "3       0.010   0.943%  3.381049e+07          China    2008.0     2702   \n",
       "4       0.015   0.152%  2.047134e+08  United States    2021.0   181467   \n",
       "\n",
       "                   Sector                         Industry  \n",
       "0             Industrials              Electrical Products  \n",
       "1             Industrials               Metal Fabrications  \n",
       "2                 Finance                Business Services  \n",
       "3  Consumer Discretionary   Service to the Health Industry  \n",
       "4             Industrials  Consumer Electronics/Appliances  "
      ]
     },
     "execution_count": 2,
     "metadata": {},
     "output_type": "execute_result"
    }
   ],
   "source": [
    "ticker = pd.read_csv('tickers.csv')\n",
    "ticker.head()"
   ]
  },
  {
   "cell_type": "code",
   "execution_count": 3,
   "id": "6ba74e4a",
   "metadata": {},
   "outputs": [
    {
     "data": {
      "text/plain": [
       "Index(['Symbol', 'Name', 'Last Sale', 'Net Change', '% Change', 'Market Cap',\n",
       "       'Country', 'IPO Year', 'Volume', 'Sector', 'Industry'],\n",
       "      dtype='object')"
      ]
     },
     "execution_count": 3,
     "metadata": {},
     "output_type": "execute_result"
    }
   ],
   "source": [
    "ticker.columns"
   ]
  },
  {
   "cell_type": "code",
   "execution_count": 4,
   "id": "91c19d86",
   "metadata": {},
   "outputs": [],
   "source": [
    "ticker.drop('Last Sale', axis=1, inplace = True)\n",
    "ticker.drop('Net Change', axis=1, inplace = True)\n",
    "ticker.drop('% Change', axis=1, inplace = True)\n",
    "ticker.drop('Market Cap', axis=1, inplace = True)\n",
    "ticker.drop('Country', axis=1, inplace = True)\n",
    "ticker.drop('IPO Year', axis=1, inplace = True)\n",
    "ticker.drop('Volume', axis=1, inplace = True)\n",
    "ticker.drop('Sector', axis=1, inplace = True)\n",
    "ticker.drop('Industry', axis=1, inplace = True)"
   ]
  },
  {
   "cell_type": "code",
   "execution_count": 5,
   "id": "c7816898",
   "metadata": {},
   "outputs": [
    {
     "data": {
      "text/html": [
       "<div>\n",
       "<style scoped>\n",
       "    .dataframe tbody tr th:only-of-type {\n",
       "        vertical-align: middle;\n",
       "    }\n",
       "\n",
       "    .dataframe tbody tr th {\n",
       "        vertical-align: top;\n",
       "    }\n",
       "\n",
       "    .dataframe thead th {\n",
       "        text-align: right;\n",
       "    }\n",
       "</style>\n",
       "<table border=\"1\" class=\"dataframe\">\n",
       "  <thead>\n",
       "    <tr style=\"text-align: right;\">\n",
       "      <th></th>\n",
       "      <th>Symbol</th>\n",
       "      <th>Name</th>\n",
       "    </tr>\n",
       "  </thead>\n",
       "  <tbody>\n",
       "    <tr>\n",
       "      <th>0</th>\n",
       "      <td>A</td>\n",
       "      <td>Agilent Technologies Inc. Common Stock</td>\n",
       "    </tr>\n",
       "    <tr>\n",
       "      <th>1</th>\n",
       "      <td>AA</td>\n",
       "      <td>Alcoa Corporation Common Stock</td>\n",
       "    </tr>\n",
       "    <tr>\n",
       "      <th>2</th>\n",
       "      <td>AAC</td>\n",
       "      <td>Ares Acquisition Corporation Class A Ordinary ...</td>\n",
       "    </tr>\n",
       "    <tr>\n",
       "      <th>3</th>\n",
       "      <td>AACG</td>\n",
       "      <td>ATA Creativity Global American Depositary Shares</td>\n",
       "    </tr>\n",
       "    <tr>\n",
       "      <th>4</th>\n",
       "      <td>AACI</td>\n",
       "      <td>Armada Acquisition Corp. I Common Stock</td>\n",
       "    </tr>\n",
       "  </tbody>\n",
       "</table>\n",
       "</div>"
      ],
      "text/plain": [
       "  Symbol                                               Name\n",
       "0      A             Agilent Technologies Inc. Common Stock\n",
       "1     AA                    Alcoa Corporation Common Stock \n",
       "2    AAC  Ares Acquisition Corporation Class A Ordinary ...\n",
       "3   AACG   ATA Creativity Global American Depositary Shares\n",
       "4   AACI            Armada Acquisition Corp. I Common Stock"
      ]
     },
     "execution_count": 5,
     "metadata": {},
     "output_type": "execute_result"
    }
   ],
   "source": [
    "ticker.head()"
   ]
  },
  {
   "cell_type": "code",
   "execution_count": 6,
   "id": "80b66205",
   "metadata": {},
   "outputs": [],
   "source": [
    "#stocks = {}\n",
    "#for tick in ticker['Symbol']:\n",
    "#    stocks[tick] = data = yf.download(tickers=tick, period='1d', interval='1m')"
   ]
  },
  {
   "cell_type": "code",
   "execution_count": null,
   "id": "cbb3411a",
   "metadata": {},
   "outputs": [],
   "source": []
  },
  {
   "cell_type": "code",
   "execution_count": 7,
   "id": "f152b963",
   "metadata": {},
   "outputs": [
    {
     "name": "stdout",
     "output_type": "stream",
     "text": [
      "[*********************100%***********************]  1 of 1 completed\n"
     ]
    }
   ],
   "source": [
    "df = yf.download(tickers = 'AAPL', period='1d', interval='1m')"
   ]
  },
  {
   "cell_type": "code",
   "execution_count": 8,
   "id": "c86777e8",
   "metadata": {},
   "outputs": [
    {
     "data": {
      "text/html": [
       "<div>\n",
       "<style scoped>\n",
       "    .dataframe tbody tr th:only-of-type {\n",
       "        vertical-align: middle;\n",
       "    }\n",
       "\n",
       "    .dataframe tbody tr th {\n",
       "        vertical-align: top;\n",
       "    }\n",
       "\n",
       "    .dataframe thead th {\n",
       "        text-align: right;\n",
       "    }\n",
       "</style>\n",
       "<table border=\"1\" class=\"dataframe\">\n",
       "  <thead>\n",
       "    <tr style=\"text-align: right;\">\n",
       "      <th></th>\n",
       "      <th>Open</th>\n",
       "      <th>High</th>\n",
       "      <th>Low</th>\n",
       "      <th>Close</th>\n",
       "      <th>Adj Close</th>\n",
       "      <th>Volume</th>\n",
       "    </tr>\n",
       "    <tr>\n",
       "      <th>Datetime</th>\n",
       "      <th></th>\n",
       "      <th></th>\n",
       "      <th></th>\n",
       "      <th></th>\n",
       "      <th></th>\n",
       "      <th></th>\n",
       "    </tr>\n",
       "  </thead>\n",
       "  <tbody>\n",
       "    <tr>\n",
       "      <th>2022-07-07 09:30:00-04:00</th>\n",
       "      <td>143.289993</td>\n",
       "      <td>144.150803</td>\n",
       "      <td>143.279999</td>\n",
       "      <td>144.139999</td>\n",
       "      <td>144.139999</td>\n",
       "      <td>1975964</td>\n",
       "    </tr>\n",
       "    <tr>\n",
       "      <th>2022-07-07 09:31:00-04:00</th>\n",
       "      <td>144.130005</td>\n",
       "      <td>144.169998</td>\n",
       "      <td>143.649994</td>\n",
       "      <td>143.669998</td>\n",
       "      <td>143.669998</td>\n",
       "      <td>338508</td>\n",
       "    </tr>\n",
       "    <tr>\n",
       "      <th>2022-07-07 09:32:00-04:00</th>\n",
       "      <td>143.669998</td>\n",
       "      <td>143.679993</td>\n",
       "      <td>143.300003</td>\n",
       "      <td>143.360001</td>\n",
       "      <td>143.360001</td>\n",
       "      <td>348692</td>\n",
       "    </tr>\n",
       "    <tr>\n",
       "      <th>2022-07-07 09:33:00-04:00</th>\n",
       "      <td>143.929993</td>\n",
       "      <td>143.929993</td>\n",
       "      <td>143.901901</td>\n",
       "      <td>143.901901</td>\n",
       "      <td>143.901901</td>\n",
       "      <td>376567</td>\n",
       "    </tr>\n",
       "    <tr>\n",
       "      <th>2022-07-07 09:34:00-04:00</th>\n",
       "      <td>144.000000</td>\n",
       "      <td>144.182007</td>\n",
       "      <td>143.998993</td>\n",
       "      <td>144.129898</td>\n",
       "      <td>144.129898</td>\n",
       "      <td>315098</td>\n",
       "    </tr>\n",
       "  </tbody>\n",
       "</table>\n",
       "</div>"
      ],
      "text/plain": [
       "                                 Open        High         Low       Close  \\\n",
       "Datetime                                                                    \n",
       "2022-07-07 09:30:00-04:00  143.289993  144.150803  143.279999  144.139999   \n",
       "2022-07-07 09:31:00-04:00  144.130005  144.169998  143.649994  143.669998   \n",
       "2022-07-07 09:32:00-04:00  143.669998  143.679993  143.300003  143.360001   \n",
       "2022-07-07 09:33:00-04:00  143.929993  143.929993  143.901901  143.901901   \n",
       "2022-07-07 09:34:00-04:00  144.000000  144.182007  143.998993  144.129898   \n",
       "\n",
       "                            Adj Close   Volume  \n",
       "Datetime                                        \n",
       "2022-07-07 09:30:00-04:00  144.139999  1975964  \n",
       "2022-07-07 09:31:00-04:00  143.669998   338508  \n",
       "2022-07-07 09:32:00-04:00  143.360001   348692  \n",
       "2022-07-07 09:33:00-04:00  143.901901   376567  \n",
       "2022-07-07 09:34:00-04:00  144.129898   315098  "
      ]
     },
     "execution_count": 8,
     "metadata": {},
     "output_type": "execute_result"
    }
   ],
   "source": [
    "df.head()"
   ]
  },
  {
   "cell_type": "code",
   "execution_count": 10,
   "id": "cdcee92b",
   "metadata": {},
   "outputs": [
    {
     "data": {
      "text/plain": [
       "Index(['Open', 'High', 'Low', 'Close', 'Adj Close', 'Volume'], dtype='object')"
      ]
     },
     "execution_count": 10,
     "metadata": {},
     "output_type": "execute_result"
    }
   ],
   "source": [
    "df.columns"
   ]
  },
  {
   "cell_type": "code",
   "execution_count": null,
   "id": "e8e67c19",
   "metadata": {},
   "outputs": [],
   "source": []
  }
 ],
 "metadata": {
  "kernelspec": {
   "display_name": "Python 3 (ipykernel)",
   "language": "python",
   "name": "python3"
  },
  "language_info": {
   "codemirror_mode": {
    "name": "ipython",
    "version": 3
   },
   "file_extension": ".py",
   "mimetype": "text/x-python",
   "name": "python",
   "nbconvert_exporter": "python",
   "pygments_lexer": "ipython3",
   "version": "3.9.7"
  }
 },
 "nbformat": 4,
 "nbformat_minor": 5
}
