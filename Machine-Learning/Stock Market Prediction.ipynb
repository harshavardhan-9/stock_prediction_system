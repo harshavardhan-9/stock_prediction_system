{
 "cells": [
  {
   "cell_type": "markdown",
   "id": "75e28fe4",
   "metadata": {},
   "source": [
    "# Machine Learning behing the working of project"
   ]
  },
  {
   "cell_type": "markdown",
   "id": "63a050e0",
   "metadata": {},
   "source": [
    "### Importing required libraries"
   ]
  },
  {
   "cell_type": "code",
   "execution_count": 1,
   "id": "d0fcc435",
   "metadata": {},
   "outputs": [],
   "source": [
    "# Basic Libraries\n",
    "import numpy as np\n",
    "import pandas as pd\n",
    "\n",
    "# Data Source\n",
    "import yfinance as yf\n",
    "import datetime as dt\n",
    "\n",
    "# Graphing Libraries\n",
    "import matplotlib.pyplot as plt\n",
    "\n",
    "# Machine Learning Libraries\n",
    "from sklearn.linear_model import LinearRegression\n",
    "from sklearn import preprocessing, model_selection, svm"
   ]
  },
  {
   "cell_type": "markdown",
   "id": "f48ad296",
   "metadata": {},
   "source": [
    "### Downloading the Dataframe with realtime data from API"
   ]
  },
  {
   "cell_type": "code",
   "execution_count": 2,
   "id": "89e4c002",
   "metadata": {},
   "outputs": [
    {
     "name": "stdout",
     "output_type": "stream",
     "text": [
      "[*********************100%***********************]  1 of 1 completed\n"
     ]
    },
    {
     "data": {
      "text/html": [
       "<div>\n",
       "<style scoped>\n",
       "    .dataframe tbody tr th:only-of-type {\n",
       "        vertical-align: middle;\n",
       "    }\n",
       "\n",
       "    .dataframe tbody tr th {\n",
       "        vertical-align: top;\n",
       "    }\n",
       "\n",
       "    .dataframe thead th {\n",
       "        text-align: right;\n",
       "    }\n",
       "</style>\n",
       "<table border=\"1\" class=\"dataframe\">\n",
       "  <thead>\n",
       "    <tr style=\"text-align: right;\">\n",
       "      <th></th>\n",
       "      <th>Open</th>\n",
       "      <th>High</th>\n",
       "      <th>Low</th>\n",
       "      <th>Close</th>\n",
       "      <th>Adj Close</th>\n",
       "      <th>Volume</th>\n",
       "    </tr>\n",
       "  </thead>\n",
       "  <tbody>\n",
       "    <tr>\n",
       "      <th>2022-04-18 09:30:00-04:00</th>\n",
       "      <td>163.919998</td>\n",
       "      <td>166.355499</td>\n",
       "      <td>163.570007</td>\n",
       "      <td>166.149994</td>\n",
       "      <td>166.149994</td>\n",
       "      <td>18871900</td>\n",
       "    </tr>\n",
       "    <tr>\n",
       "      <th>2022-04-18 10:30:00-04:00</th>\n",
       "      <td>166.149994</td>\n",
       "      <td>166.598404</td>\n",
       "      <td>164.509995</td>\n",
       "      <td>164.630005</td>\n",
       "      <td>164.630005</td>\n",
       "      <td>8329834</td>\n",
       "    </tr>\n",
       "    <tr>\n",
       "      <th>2022-04-18 11:30:00-04:00</th>\n",
       "      <td>164.619995</td>\n",
       "      <td>164.845306</td>\n",
       "      <td>163.690002</td>\n",
       "      <td>163.750198</td>\n",
       "      <td>163.750198</td>\n",
       "      <td>9703100</td>\n",
       "    </tr>\n",
       "    <tr>\n",
       "      <th>2022-04-18 12:30:00-04:00</th>\n",
       "      <td>163.750000</td>\n",
       "      <td>164.517593</td>\n",
       "      <td>163.699997</td>\n",
       "      <td>164.505005</td>\n",
       "      <td>164.505005</td>\n",
       "      <td>5517483</td>\n",
       "    </tr>\n",
       "    <tr>\n",
       "      <th>2022-04-18 13:30:00-04:00</th>\n",
       "      <td>164.500000</td>\n",
       "      <td>165.829605</td>\n",
       "      <td>164.429901</td>\n",
       "      <td>165.470001</td>\n",
       "      <td>165.470001</td>\n",
       "      <td>7210427</td>\n",
       "    </tr>\n",
       "  </tbody>\n",
       "</table>\n",
       "</div>"
      ],
      "text/plain": [
       "                                 Open        High         Low       Close  \\\n",
       "2022-04-18 09:30:00-04:00  163.919998  166.355499  163.570007  166.149994   \n",
       "2022-04-18 10:30:00-04:00  166.149994  166.598404  164.509995  164.630005   \n",
       "2022-04-18 11:30:00-04:00  164.619995  164.845306  163.690002  163.750198   \n",
       "2022-04-18 12:30:00-04:00  163.750000  164.517593  163.699997  164.505005   \n",
       "2022-04-18 13:30:00-04:00  164.500000  165.829605  164.429901  165.470001   \n",
       "\n",
       "                            Adj Close    Volume  \n",
       "2022-04-18 09:30:00-04:00  166.149994  18871900  \n",
       "2022-04-18 10:30:00-04:00  164.630005   8329834  \n",
       "2022-04-18 11:30:00-04:00  163.750198   9703100  \n",
       "2022-04-18 12:30:00-04:00  164.505005   5517483  \n",
       "2022-04-18 13:30:00-04:00  165.470001   7210427  "
      ]
     },
     "execution_count": 2,
     "metadata": {},
     "output_type": "execute_result"
    }
   ],
   "source": [
    "df_ml = yf.download(tickers = 'AAPL', period='3mo', interval='1h')\n",
    "df_ml.head()"
   ]
  },
  {
   "cell_type": "markdown",
   "id": "9517f216",
   "metadata": {},
   "source": [
    "### Marking the column of interest"
   ]
  },
  {
   "cell_type": "code",
   "execution_count": 3,
   "id": "54b0bfc0",
   "metadata": {},
   "outputs": [
    {
     "data": {
      "text/html": [
       "<div>\n",
       "<style scoped>\n",
       "    .dataframe tbody tr th:only-of-type {\n",
       "        vertical-align: middle;\n",
       "    }\n",
       "\n",
       "    .dataframe tbody tr th {\n",
       "        vertical-align: top;\n",
       "    }\n",
       "\n",
       "    .dataframe thead th {\n",
       "        text-align: right;\n",
       "    }\n",
       "</style>\n",
       "<table border=\"1\" class=\"dataframe\">\n",
       "  <thead>\n",
       "    <tr style=\"text-align: right;\">\n",
       "      <th></th>\n",
       "      <th>Adj Close</th>\n",
       "    </tr>\n",
       "  </thead>\n",
       "  <tbody>\n",
       "    <tr>\n",
       "      <th>2022-04-18 09:30:00-04:00</th>\n",
       "      <td>166.149994</td>\n",
       "    </tr>\n",
       "    <tr>\n",
       "      <th>2022-04-18 10:30:00-04:00</th>\n",
       "      <td>164.630005</td>\n",
       "    </tr>\n",
       "    <tr>\n",
       "      <th>2022-04-18 11:30:00-04:00</th>\n",
       "      <td>163.750198</td>\n",
       "    </tr>\n",
       "    <tr>\n",
       "      <th>2022-04-18 12:30:00-04:00</th>\n",
       "      <td>164.505005</td>\n",
       "    </tr>\n",
       "    <tr>\n",
       "      <th>2022-04-18 13:30:00-04:00</th>\n",
       "      <td>165.470001</td>\n",
       "    </tr>\n",
       "  </tbody>\n",
       "</table>\n",
       "</div>"
      ],
      "text/plain": [
       "                            Adj Close\n",
       "2022-04-18 09:30:00-04:00  166.149994\n",
       "2022-04-18 10:30:00-04:00  164.630005\n",
       "2022-04-18 11:30:00-04:00  163.750198\n",
       "2022-04-18 12:30:00-04:00  164.505005\n",
       "2022-04-18 13:30:00-04:00  165.470001"
      ]
     },
     "execution_count": 3,
     "metadata": {},
     "output_type": "execute_result"
    }
   ],
   "source": [
    "# Fetching ticker values from Yahoo Finance API \n",
    "df_ml = df_ml[['Adj Close']]\n",
    "df_ml.head()"
   ]
  },
  {
   "cell_type": "markdown",
   "id": "e0c9d209",
   "metadata": {},
   "source": [
    "### Selecting the number of days to obtain prediction result"
   ]
  },
  {
   "cell_type": "code",
   "execution_count": 4,
   "id": "57f9ff85",
   "metadata": {},
   "outputs": [
    {
     "name": "stderr",
     "output_type": "stream",
     "text": [
      "C:\\Users\\Parth\\AppData\\Local\\Temp/ipykernel_17816/3491682954.py:3: SettingWithCopyWarning: \n",
      "A value is trying to be set on a copy of a slice from a DataFrame.\n",
      "Try using .loc[row_indexer,col_indexer] = value instead\n",
      "\n",
      "See the caveats in the documentation: https://pandas.pydata.org/pandas-docs/stable/user_guide/indexing.html#returning-a-view-versus-a-copy\n",
      "  df_ml['Prediction'] = df_ml[['Adj Close']].shift(-forecast_out)\n"
     ]
    }
   ],
   "source": [
    "#Predicting for next 100 days\n",
    "forecast_out = 100 \n",
    "df_ml['Prediction'] = df_ml[['Adj Close']].shift(-forecast_out)"
   ]
  },
  {
   "cell_type": "markdown",
   "id": "de10e034",
   "metadata": {},
   "source": [
    "### Spliting the dataframe into training and testing dataframes"
   ]
  },
  {
   "cell_type": "code",
   "execution_count": 5,
   "id": "201f2c3f",
   "metadata": {},
   "outputs": [
    {
     "name": "stderr",
     "output_type": "stream",
     "text": [
      "C:\\Users\\Parth\\AppData\\Local\\Temp/ipykernel_17816/3082014187.py:2: FutureWarning: In a future version of pandas all arguments of DataFrame.drop except for the argument 'labels' will be keyword-only\n",
      "  X = np.array(df_ml.drop(['Prediction'],1))\n"
     ]
    }
   ],
   "source": [
    "# Splitting data for Test and Train\n",
    "X = np.array(df_ml.drop(['Prediction'],1))\n",
    "X = preprocessing.scale(X)\n",
    "X_forecast = X[-forecast_out:]\n",
    "X = X[:-forecast_out]\n",
    "y = np.array(df_ml['Prediction'])\n",
    "y = y[:-forecast_out]\n",
    "X_train, X_test, y_train, y_test = model_selection.train_test_split(X, y, test_size = 0.2)"
   ]
  },
  {
   "cell_type": "markdown",
   "id": "81857b8a",
   "metadata": {},
   "source": [
    "### Applying Machine Learning Algorithm: Linear Regression"
   ]
  },
  {
   "cell_type": "code",
   "execution_count": 6,
   "id": "1ab500dd",
   "metadata": {},
   "outputs": [
    {
     "data": {
      "text/plain": [
       "LinearRegression()"
      ]
     },
     "execution_count": 6,
     "metadata": {},
     "output_type": "execute_result"
    }
   ],
   "source": [
    "# Applying Linear Regression\n",
    "clf = LinearRegression()\n",
    "clf.fit(X_train,y_train)"
   ]
  },
  {
   "cell_type": "markdown",
   "id": "73b868e1",
   "metadata": {},
   "source": [
    "### Obtaining model accuracy"
   ]
  },
  {
   "cell_type": "code",
   "execution_count": 7,
   "id": "ac7317ea",
   "metadata": {},
   "outputs": [],
   "source": [
    "# Prediction Score\n",
    "confidence = clf.score(X_test, y_test)"
   ]
  },
  {
   "cell_type": "markdown",
   "id": "4bbc8159",
   "metadata": {},
   "source": [
    "### Oraganising our result in a dataframe"
   ]
  },
  {
   "cell_type": "code",
   "execution_count": 8,
   "id": "e369ad88",
   "metadata": {},
   "outputs": [],
   "source": [
    "# Predicting for 'n' days stock data\n",
    "forecast_prediction = clf.predict(X_forecast)\n",
    "forecast = forecast_prediction.tolist()"
   ]
  },
  {
   "cell_type": "code",
   "execution_count": 9,
   "id": "9af512a0",
   "metadata": {},
   "outputs": [],
   "source": [
    "pred_dict = {\"Date\": [], \"Prediction\": []}"
   ]
  },
  {
   "cell_type": "code",
   "execution_count": 10,
   "id": "00e2008b",
   "metadata": {},
   "outputs": [],
   "source": [
    "for i in range(0, len(forecast)):\n",
    "    pred_dict[\"Date\"].append(dt.datetime.today() + dt.timedelta(days=i))\n",
    "    pred_dict[\"Prediction\"].append(forecast[i])"
   ]
  },
  {
   "cell_type": "code",
   "execution_count": 11,
   "id": "2e9b2686",
   "metadata": {},
   "outputs": [
    {
     "data": {
      "text/html": [
       "<div>\n",
       "<style scoped>\n",
       "    .dataframe tbody tr th:only-of-type {\n",
       "        vertical-align: middle;\n",
       "    }\n",
       "\n",
       "    .dataframe tbody tr th {\n",
       "        vertical-align: top;\n",
       "    }\n",
       "\n",
       "    .dataframe thead th {\n",
       "        text-align: right;\n",
       "    }\n",
       "</style>\n",
       "<table border=\"1\" class=\"dataframe\">\n",
       "  <thead>\n",
       "    <tr style=\"text-align: right;\">\n",
       "      <th></th>\n",
       "      <th>Date</th>\n",
       "      <th>Prediction</th>\n",
       "    </tr>\n",
       "  </thead>\n",
       "  <tbody>\n",
       "    <tr>\n",
       "      <th>0</th>\n",
       "      <td>2022-07-18 09:47:47.728716</td>\n",
       "      <td>142.211031</td>\n",
       "    </tr>\n",
       "    <tr>\n",
       "      <th>1</th>\n",
       "      <td>2022-07-19 09:47:47.728716</td>\n",
       "      <td>142.230015</td>\n",
       "    </tr>\n",
       "    <tr>\n",
       "      <th>2</th>\n",
       "      <td>2022-07-20 09:47:47.728716</td>\n",
       "      <td>142.326510</td>\n",
       "    </tr>\n",
       "    <tr>\n",
       "      <th>3</th>\n",
       "      <td>2022-07-21 09:47:47.728716</td>\n",
       "      <td>142.270088</td>\n",
       "    </tr>\n",
       "    <tr>\n",
       "      <th>4</th>\n",
       "      <td>2022-07-22 09:47:47.728716</td>\n",
       "      <td>142.251106</td>\n",
       "    </tr>\n",
       "    <tr>\n",
       "      <th>...</th>\n",
       "      <td>...</td>\n",
       "      <td>...</td>\n",
       "    </tr>\n",
       "    <tr>\n",
       "      <th>95</th>\n",
       "      <td>2022-10-21 09:47:47.728716</td>\n",
       "      <td>143.006724</td>\n",
       "    </tr>\n",
       "    <tr>\n",
       "      <th>96</th>\n",
       "      <td>2022-10-22 09:47:47.728716</td>\n",
       "      <td>143.015689</td>\n",
       "    </tr>\n",
       "    <tr>\n",
       "      <th>97</th>\n",
       "      <td>2022-10-23 09:47:47.728716</td>\n",
       "      <td>142.994533</td>\n",
       "    </tr>\n",
       "    <tr>\n",
       "      <th>98</th>\n",
       "      <td>2022-10-24 09:47:47.728716</td>\n",
       "      <td>143.104275</td>\n",
       "    </tr>\n",
       "    <tr>\n",
       "      <th>99</th>\n",
       "      <td>2022-10-25 09:47:47.728716</td>\n",
       "      <td>143.095838</td>\n",
       "    </tr>\n",
       "  </tbody>\n",
       "</table>\n",
       "<p>100 rows × 2 columns</p>\n",
       "</div>"
      ],
      "text/plain": [
       "                         Date  Prediction\n",
       "0  2022-07-18 09:47:47.728716  142.211031\n",
       "1  2022-07-19 09:47:47.728716  142.230015\n",
       "2  2022-07-20 09:47:47.728716  142.326510\n",
       "3  2022-07-21 09:47:47.728716  142.270088\n",
       "4  2022-07-22 09:47:47.728716  142.251106\n",
       "..                        ...         ...\n",
       "95 2022-10-21 09:47:47.728716  143.006724\n",
       "96 2022-10-22 09:47:47.728716  143.015689\n",
       "97 2022-10-23 09:47:47.728716  142.994533\n",
       "98 2022-10-24 09:47:47.728716  143.104275\n",
       "99 2022-10-25 09:47:47.728716  143.095838\n",
       "\n",
       "[100 rows x 2 columns]"
      ]
     },
     "execution_count": 11,
     "metadata": {},
     "output_type": "execute_result"
    }
   ],
   "source": [
    "pred_df = pd.DataFrame(pred_dict)\n",
    "pred_df"
   ]
  },
  {
   "cell_type": "markdown",
   "id": "daf58b2a",
   "metadata": {},
   "source": [
    "### Ploting the result on graph"
   ]
  },
  {
   "cell_type": "code",
   "execution_count": 12,
   "id": "cca59440",
   "metadata": {},
   "outputs": [
    {
     "data": {
      "image/png": "[encoded data removed]",
      "text/plain": [
       "<Figure size 1080x720 with 1 Axes>"
      ]
     },
     "metadata": {
      "needs_background": "light"
     },
     "output_type": "display_data"
    }
   ],
   "source": [
    "plt.rcParams[\"figure.figsize\"] = (15,10)\n",
    "plt.plot(pred_df['Date'], pred_df['Prediction'])\n",
    "plt.show()"
   ]
  }
 ],
 "metadata": {
  "kernelspec": {
   "display_name": "Python 3 (ipykernel)",
   "language": "python",
   "name": "python3"
  },
  "language_info": {
   "codemirror_mode": {
    "name": "ipython",
    "version": 3
   },
   "file_extension": ".py",
   "mimetype": "text/x-python",
   "name": "python",
   "nbconvert_exporter": "python",
   "pygments_lexer": "ipython3",
   "version": "3.9.7"
  },
  "vscode": {
   "interpreter": {
    "hash": "9daa8ad9b90bd0d18a02f35c27b8246e0a80a48f1f052f371036ef306ea2eaac"
   }
  }
 },
 "nbformat": 4,
 "nbformat_minor": 5
}
