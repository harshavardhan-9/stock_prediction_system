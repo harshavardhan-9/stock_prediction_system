{
 "cells": [
  {
   "cell_type": "code",
   "execution_count": 1,
   "id": "d0fcc435",
   "metadata": {},
   "outputs": [],
   "source": [
    "# Raw Package\n",
    "import numpy as np\n",
    "import pandas as pd\n",
    "\n",
    "#Data Source\n",
    "import yfinance as yf\n",
    "\n",
    "import datetime as dt\n",
    "\n",
    "from plotly.offline import plot\n",
    "import plotly.graph_objects as go\n",
    "import plotly.express as px\n",
    "from plotly.graph_objs import Scatter\n",
    "\n",
    "#QR Code module\n",
    "import qrcode  "
   ]
  },
  {
   "cell_type": "code",
   "execution_count": 2,
   "id": "f8904354",
   "metadata": {},
   "outputs": [],
   "source": [
    "# Data to encode\n",
    "data = \"https://stock-prediction-system.herokuapp.com/predict/AAPL/300/\"\n",
    " \n",
    "# Creating an instance of QRCode class\n",
    "qr = qrcode.QRCode(version = 1,\n",
    "                   box_size = 10,\n",
    "                   border = 5)\n",
    " \n",
    "# Adding data to the instance 'qr'\n",
    "qr.add_data(data)\n",
    " \n",
    "qr.make(fit = True)\n",
    "img = qr.make_image(fill_color = 'white',\n",
    "                    back_color = '#14151b')"
   ]
  },
  {
   "cell_type": "code",
   "execution_count": 3,
   "id": "24183b01",
   "metadata": {},
   "outputs": [
    {
     "data": {
      "image/png": "[encoded data removed]",
      "text/plain": [
       "<qrcode.image.pil.PilImage at 0x202f7b9ae50>"
      ]
     },
     "execution_count": 3,
     "metadata": {},
     "output_type": "execute_result"
    }
   ],
   "source": [
    "img"
   ]
  },
  {
   "cell_type": "code",
   "execution_count": 4,
   "id": "e1ec4265",
   "metadata": {},
   "outputs": [
    {
     "data": {
      "text/plain": [
       "qrcode.image.pil.PilImage"
      ]
     },
     "execution_count": 4,
     "metadata": {},
     "output_type": "execute_result"
    }
   ],
   "source": [
    "type(img)"
   ]
  },
  {
   "cell_type": "code",
   "execution_count": 5,
   "id": "8b7e51ef",
   "metadata": {},
   "outputs": [
    {
     "name": "stdout",
     "output_type": "stream",
     "text": [
      "<qrcode.image.pil.PilImage object at 0x00000202F7B9AE50>\n"
     ]
    }
   ],
   "source": [
    "print(img)"
   ]
  },
  {
   "cell_type": "code",
   "execution_count": null,
   "id": "c3c23e23",
   "metadata": {},
   "outputs": [],
   "source": []
  }
 ],
 "metadata": {
  "kernelspec": {
   "display_name": "Python 3 (ipykernel)",
   "language": "python",
   "name": "python3"
  },
  "language_info": {
   "codemirror_mode": {
    "name": "ipython",
    "version": 3
   },
   "file_extension": ".py",
   "mimetype": "text/x-python",
   "name": "python",
   "nbconvert_exporter": "python",
   "pygments_lexer": "ipython3",
   "version": "3.9.7"
  },
  "vscode": {
   "interpreter": {
    "hash": "9daa8ad9b90bd0d18a02f35c27b8246e0a80a48f1f052f371036ef306ea2eaac"
   }
  }
 },
 "nbformat": 4,
 "nbformat_minor": 5
}
